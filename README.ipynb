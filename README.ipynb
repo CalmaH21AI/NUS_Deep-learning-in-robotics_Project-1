{
 "cells": [
  {
   "cell_type": "markdown",
   "id": "68744c0b",
   "metadata": {},
   "source": [
    "# Instruction\n",
    "\n",
    "- Libraries involved:\n",
    "    - numpy\n",
    "    - random\n",
    "    - time -> to record the process time\n",
    "    - IPython.display -> to clear output and display movement\n",
    "    - matplotlib.pyplot -> to plot scatter diagram\n",
    "    - pandas -> to plot scatter diagram\n",
    "    - tabulate -> to display Q-table\n",
    "    - seaborn -> to create heatmap\n",
    "- Functions in \"fl\" class:\n",
    "    - show_grid(): display the map\n",
    "    - show_Q(): display the Q-table\n",
    "    - reset(): clear all learning outcomes\n",
    "- There are three methods to run the codes.\n",
    "- Complete codes and comments are in frozenlake.py\n",
    "\n",
    "## Method 1\n",
    "- Files involved\n",
    "    1. frozenlake.py\n",
    "    2. main_4x4.py\n",
    "    3. main_10x10.py\n",
    "- Description\n",
    "    - All algorithms are compiled in \"frozenlake.py\"\n",
    "    - Running \"main_xxx.py\" files can obtain the results in one go for all three learning techniques.\n",
    "    - Parameters can be modified in \"main_xxx.py\" files.\n",
    "    - For \"main_10x10.py\" file:\n",
    "        - Comment \"fails = None\" and uncomment \"fails = [...]\" to create a random map.\n",
    "        - Uncomment \"fails = None\" and comment \"fails = [...]\" to employ the map used in the report.\n",
    "    \n",
    "## Method 2\n",
    "- Files involved\n",
    "    1. frozenlake.py\n",
    "    2. frozenlake_import.ipynb\n",
    "- Description\n",
    "    - Same as Method 1 but implemented in jupyter IDE. \n",
    "    \n",
    "## Method 3\n",
    "- Files involved\n",
    "    1. frozenlake_complete.ipynb\n",
    "- Description\n",
    "    - All codes are compiled in one file.\n",
    "    - Robot's movement in the grid can be shown in the output."
   ]
  }
 ],
 "metadata": {
  "kernelspec": {
   "display_name": "Python 3",
   "language": "python",
   "name": "python3"
  },
  "language_info": {
   "codemirror_mode": {
    "name": "ipython",
    "version": 3
   },
   "file_extension": ".py",
   "mimetype": "text/x-python",
   "name": "python",
   "nbconvert_exporter": "python",
   "pygments_lexer": "ipython3",
   "version": "3.8.8"
  }
 },
 "nbformat": 4,
 "nbformat_minor": 5
}
